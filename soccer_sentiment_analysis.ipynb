{
  "nbformat": 4,
  "nbformat_minor": 0,
  "metadata": {
    "colab": {
      "provenance": []
    },
    "kernelspec": {
      "name": "python3",
      "display_name": "Python 3"
    },
    "language_info": {
      "name": "python"
    }
  },
  "cells": [
    {
      "cell_type": "code",
      "execution_count": 51,
      "metadata": {
        "id": "Xq7rpp6VN2JT"
      },
      "outputs": [],
      "source": [
        "# This notebook accompnaies the soccer sentiment analysis project\n",
        "\n",
        "import pandas as pd\n",
        "from sklearn.model_selection import train_test_split\n",
        "from sklearn.ensemble import RandomForestClassifier\n",
        "from sklearn.metrics import classification_report, confusion_matrix\n",
        "from sklearn.preprocessing import LabelEncoder\n",
        "import ast\n",
        "\n",
        "# 1. Load the data\n",
        "df = pd.read_csv('grouped_match_data.csv')\n",
        "\n",
        "#  Check structure\n",
        "# print(df.head())\n",
        "# print(df.info())\n",
        "# print(df.columns)\n",
        ""
      ]
    },
    {
      "cell_type": "code",
      "source": [
        "# 2. Convert sentiment string to dictionary\n",
        "df['sentiment_dict'] = df['s_e_n_t_i_m_e_n_t___d_i_s_t'].apply(ast.literal_eval)\n",
        "\n",
        "# 3. Extract sentiment values into new columns\n",
        "df['Neutral'] = df['sentiment_dict'].apply(lambda x: x.get('Neutral', 0))\n",
        "df['Negative'] = df['sentiment_dict'].apply(lambda x: x.get('Negative', 0))\n",
        "df['Positive'] = df['sentiment_dict'].apply(lambda x: x.get('Positive', 0))\n",
        "\n",
        "# 4. Drop the original sentiment columns\n",
        "# df.drop(['s_e_n_t_i_m_e_n_t___d_i_s_t', 'sentiment_dict'], axis=1, inplace=True)\n",
        "\n",
        "# 5. Encode match result (Win, Draw, Loss → numeric classes)\n",
        "label_encoder = LabelEncoder()\n",
        "df['result_encoded'] = label_encoder.fit_transform(df['W_i_n_n_e_r'])\n",
        "\n",
        "# 6. Prepare features and target\n",
        "sentiment_cols = ['Neutral', 'Negative', 'Positive']\n",
        "X = df[sentiment_cols]\n",
        "y = df['result_encoded']\n",
        "\n",
        "# 7. Split into training and test data\n",
        "X_train, X_test, y_train, y_test = train_test_split(X, y, test_size=0.2, random_state=42)\n",
        "\n",
        "# 8. Train Random Forest classifier\n",
        "clf = RandomForestClassifier(random_state=42)\n",
        "clf.fit(X_train, y_train)\n",
        "\n",
        "# 9. Evaluate model\n",
        "y_pred = clf.predict(X_test)\n",
        "\n",
        "print(\"Confusion Matrix:\\n\", confusion_matrix(y_test, y_pred))\n",
        "print(\"\\nClassification Report:\\n\", classification_report(y_test, y_pred, target_names=label_encoder.classes_))\n",
        "\n",
        "# 10. Feature importances plot\n",
        "import matplotlib.pyplot as plt\n",
        "importances = clf.feature_importances_\n",
        "plt.bar(sentiment_cols, importances, color='skyblue')\n",
        "plt.title('Feature Importances')\n",
        "plt.ylabel('Importance')\n",
        "plt.show()"
      ],
      "metadata": {
        "colab": {
          "base_uri": "https://localhost:8080/",
          "height": 700
        },
        "id": "thO_t7SmQrVx",
        "outputId": "65487d65-6336-458e-bac3-f009e9960f30"
      },
      "execution_count": 58,
      "outputs": [
        {
          "output_type": "stream",
          "name": "stdout",
          "text": [
            "Confusion Matrix:\n",
            " [[39 18]\n",
            " [25 14]]\n",
            "\n",
            "Classification Report:\n",
            "               precision    recall  f1-score   support\n",
            "\n",
            "        Lost       0.61      0.68      0.64        57\n",
            "         Won       0.44      0.36      0.39        39\n",
            "\n",
            "    accuracy                           0.55        96\n",
            "   macro avg       0.52      0.52      0.52        96\n",
            "weighted avg       0.54      0.55      0.54        96\n",
            "\n"
          ]
        },
        {
          "output_type": "display_data",
          "data": {
            "text/plain": [
              "<Figure size 640x480 with 1 Axes>"
            ],
            "image/png": "[encoded data removed]"
          },
          "metadata": {}
        }
      ]
    },
    {
      "cell_type": "code",
      "source": [],
      "metadata": {
        "id": "qklr7HNQWpJy"
      },
      "execution_count": null,
      "outputs": []
    }
  ]
}